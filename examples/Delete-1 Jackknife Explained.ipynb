{
 "cells": [
  {
   "cell_type": "markdown",
   "metadata": {},
   "source": [
    "# Delete-1 Jackknife Explained"
   ]
  },
  {
   "cell_type": "markdown",
   "metadata": {},
   "source": [
    "# Load packages"
   ]
  },
  {
   "cell_type": "code",
   "execution_count": 1,
   "metadata": {},
   "outputs": [],
   "source": [
    "import numpy as np\n",
    "from sklearn.model_selection import train_test_split\n",
    "\n",
    "import matplotlib.pyplot as plt\n",
    "%matplotlib inline\n",
    "\n",
    "import scipy.stats"
   ]
  },
  {
   "cell_type": "markdown",
   "metadata": {},
   "source": [
    "# Load dataset"
   ]
  },
  {
   "cell_type": "code",
   "execution_count": 2,
   "metadata": {
    "ExecuteTime": {
     "end_time": "2018-08-02T08:46:59.634936Z",
     "start_time": "2018-08-02T08:46:58.818170Z"
    }
   },
   "outputs": [],
   "source": [
    "from sklearn.datasets import load_boston\n",
    "tmp = load_boston()\n",
    "y = tmp.target\n",
    "X = tmp.data[:,[5,12]]"
   ]
  },
  {
   "cell_type": "markdown",
   "metadata": {},
   "source": [
    "# Data Splitting\n",
    "Let's reserve 50% for testing lateron"
   ]
  },
  {
   "cell_type": "code",
   "execution_count": 3,
   "metadata": {
    "ExecuteTime": {
     "end_time": "2018-08-02T08:46:59.666220Z",
     "start_time": "2018-08-02T08:46:59.640415Z"
    }
   },
   "outputs": [],
   "source": [
    "X_train, X_test, y_train, y_test = train_test_split(\n",
    "    X, y, test_size=0.5, random_state=42)\n",
    "\n",
    "N = len(y_train)"
   ]
  },
  {
   "cell_type": "markdown",
   "metadata": {},
   "source": [
    "# Model Specification\n",
    "We will use a linear regression model but it could be any model with a fixed set of parameters/weights to be estimated."
   ]
  },
  {
   "cell_type": "code",
   "execution_count": 4,
   "metadata": {},
   "outputs": [],
   "source": [
    "def estimator_fn(y, X, bias=True):\n",
    "    if bias:\n",
    "        X_ = np.c_[np.ones(shape=(len(y), 1)), X]\n",
    "    else:\n",
    "        X_ = X\n",
    "    # OLS by LU decomposition\n",
    "    return np.linalg.solve(np.dot(X_.T, X_), np.dot(X_.T, y))"
   ]
  },
  {
   "cell_type": "code",
   "execution_count": 5,
   "metadata": {},
   "outputs": [],
   "source": [
    "def predictor_fn(X, weights, bias=True):\n",
    "    if bias:\n",
    "        X_ = np.c_[np.ones(shape=(len(X), 1)), X]\n",
    "    else:\n",
    "        X_ = X\n",
    "    return np.dot(X_, weights)"
   ]
  },
  {
   "cell_type": "code",
   "execution_count": 6,
   "metadata": {},
   "outputs": [],
   "source": [
    "def loss_fn(y, y_pred):\n",
    "    return np.mean((y - y_pred)**2)"
   ]
  },
  {
   "cell_type": "markdown",
   "metadata": {},
   "source": [
    "# Model Estimation\n",
    "\n",
    "## Loop over the Subsamples\n",
    "In Delete-1 Jackknife `N` subsamples are created that leaves out 1 of the `N` observations. \n",
    "Then the parameters/weights of the base model are estimated for each of the `N` subsamples."
   ]
  },
  {
   "cell_type": "code",
   "execution_count": 7,
   "metadata": {
    "ExecuteTime": {
     "end_time": "2018-08-02T08:46:59.706733Z",
     "start_time": "2018-08-02T08:46:59.670913Z"
    }
   },
   "outputs": [
    {
     "name": "stdout",
     "output_type": "stream",
     "text": [
      "CPU times: user 42.3 ms, sys: 2.76 ms, total: 45.1 ms\n",
      "Wall time: 89.1 ms\n"
     ]
    }
   ],
   "source": [
    "%%time\n",
    "params = []  # store estimated weights lateron\n",
    "\n",
    "# row indicies for each observation\n",
    "idx = np.arange(0, N)\n",
    "\n",
    "#loop over subsamples\n",
    "for i in idx:\n",
    "    # create true/false mask for the i-th subsample\n",
    "    # there is one observation masked false!\n",
    "    mask = idx != i\n",
    "\n",
    "    #estimate the the model parameters for the i-th subsample\n",
    "    beta = estimator_fn(y_train[mask], X_train[mask, :])\n",
    "    params.append(beta)  # store it\n",
    "\n",
    "params = np.vstack(params)  # convert to numpy array"
   ]
  },
  {
   "cell_type": "markdown",
   "metadata": {},
   "source": [
    "## Eyeball the subsamples' estimated parameters/weights ('Jackknife replicates')"
   ]
  },
  {
   "cell_type": "code",
   "execution_count": 8,
   "metadata": {
    "ExecuteTime": {
     "end_time": "2018-08-02T08:47:00.540598Z",
     "start_time": "2018-08-02T08:46:59.710921Z"
    },
    "scrolled": false
   },
   "outputs": [
    {
     "data": {
      "image/png": "[encoded data removed]",
      "text/plain": [
       "<Figure size 750x450 with 3 Axes>"
      ]
     },
     "metadata": {
      "needs_background": "light"
     },
     "output_type": "display_data"
    }
   ],
   "source": [
    "fig = plt.figure(figsize=(5,3), dpi=150)\n",
    "names = ['intercept', 'beta_1', 'beta_2']\n",
    "color = ['b+', 'r>', 'g*']\n",
    "bwidth = .7\n",
    "\n",
    "for i in range(3):\n",
    "    ax = plt.subplot('13'+str(i+1))\n",
    "    ax.boxplot(x=params[:,i], sym=color[i], widths=bwidth);\n",
    "    ax.set_xlabel(names[i])\n",
    "    ax.set_xticks([])\n",
    "\n",
    "plt.tight_layout()"
   ]
  },
  {
   "cell_type": "markdown",
   "metadata": {},
   "source": [
    "Remember, the classic Delete-1 Jackknife just leaves out 1 observation for each subsample. \n",
    "This is already enough to create subsamples with fluctating parameter estimates (The Jackknife Replicates). \n",
    "For example, the *intercept* parameter estimates are centered around `-4.5` but one subsample resulted in an almost `-8.0` parameter value, or almost twice as negative. \n",
    "The Jackknife method literally *average out* the outliers. "
   ]
  },
  {
   "cell_type": "markdown",
   "metadata": {},
   "source": [
    "# Aggregate Estimates\n",
    "In a first step, the subsamples parameters/weights are aggregated:\n",
    "\n",
    "- $\\theta_{biased}$ : Biased Jackknife Estimate (mean of weights)\n",
    "- $SE(\\theta)$ : Jackknife Standard Error (standard deviation of weights)\n",
    "- $SE(\\theta) / |\\theta_{biased}|$ : Quick-n-Dirty indicator for parameter/weight stability\n",
    "\n",
    "And finally, the mathematically correct answer\n",
    "\n",
    "- $\\theta_{jack}$ : Bias-corrected Jackknife Estimate (use this as model parameters/weights!)\n",
    "- Jackknife t-Statistics (reject the whole model if any parameter/weight is unstable)"
   ]
  },
  {
   "cell_type": "markdown",
   "metadata": {},
   "source": [
    "## Biased Jackknife Estimate\n",
    "The biased **Jackknife Estimate** is the mean of a specific parameter estimate (e.g. the intercept) for all subsamples.\n",
    "\n",
    "$$\n",
    "\\theta_{biased} = \\frac{1}{n} \\sum_{i=1}^n \\theta_{(i)}\n",
    "$$\n",
    "\n",
    "In our example, the biased Jackknife Estimate is "
   ]
  },
  {
   "cell_type": "code",
   "execution_count": 9,
   "metadata": {
    "ExecuteTime": {
     "end_time": "2018-08-02T08:47:00.553123Z",
     "start_time": "2018-08-02T08:47:00.544535Z"
    }
   },
   "outputs": [
    {
     "data": {
      "text/plain": [
       "array([-4.39632188,  5.57867761, -0.64774153])"
      ]
     },
     "execution_count": 9,
     "metadata": {},
     "output_type": "execute_result"
    }
   ],
   "source": [
    "theta_biased = np.mean(params, axis=0)\n",
    "theta_biased"
   ]
  },
  {
   "cell_type": "markdown",
   "metadata": {},
   "source": [
    "## Jackknife Standard Error \n",
    "The core of the Jackknife procedure is the question how stable model parameters actually are. \n",
    "The **Standard Error (SE) of the Jackknife Estimates** is\n",
    "\n",
    "$$\n",
    "SE(\\theta) = \\sqrt{ \\frac{n - 1}{n} \\sum_{i=1}^n \\left(\\theta_{(i)} - \\theta_{biased}\\right)^2 }\n",
    "$$"
   ]
  },
  {
   "cell_type": "code",
   "execution_count": 10,
   "metadata": {
    "ExecuteTime": {
     "end_time": "2018-08-02T08:47:00.565294Z",
     "start_time": "2018-08-02T08:47:00.557259Z"
    }
   },
   "outputs": [
    {
     "data": {
      "text/plain": [
       "array([6.58036053, 0.94682775, 0.08295471])"
      ]
     },
     "execution_count": 10,
     "metadata": {},
     "output_type": "execute_result"
    }
   ],
   "source": [
    "se_jack = np.sqrt( (N-1)/N * np.sum((params - theta_biased)**2, axis=0) )\n",
    "se_jack"
   ]
  },
  {
   "cell_type": "markdown",
   "metadata": {},
   "source": [
    "## Quick-n-Dirty indicator for parameter/weight stability\n",
    "What parameters are the most unstable?\n",
    "It is not really scientific but we can already guess potentially unstable parameter estimates without bias-correction by\n",
    "\n",
    "$$\n",
    "\\frac{SE(\\theta)}{|\\theta_{biased}|}\n",
    "$$\n",
    "\n",
    "A low standard error per absolute parameter value is desirable (lower is better or more stable). \n",
    "In our example, the intercept seems problematic."
   ]
  },
  {
   "cell_type": "code",
   "execution_count": 11,
   "metadata": {
    "ExecuteTime": {
     "end_time": "2018-08-02T08:47:00.587651Z",
     "start_time": "2018-08-02T08:47:00.569056Z"
    }
   },
   "outputs": [
    {
     "data": {
      "text/plain": [
       "array([1.4967877 , 0.16972261, 0.12806761])"
      ]
     },
     "execution_count": 11,
     "metadata": {},
     "output_type": "execute_result"
    }
   ],
   "source": [
    "se_jack / abs(theta_biased)"
   ]
  },
  {
   "cell_type": "markdown",
   "metadata": {},
   "source": [
    "## Bias-corrected Jackknife Estimate\n",
    "The **unbiased** or **bias-corrected Jackknife Estimate** is the parameter estimate of the full sample minus a Jackknife specific bias-correction\n",
    "\n",
    "$$\n",
    "\\theta_{jack} = \\theta_{all} - bias_{jack}\n",
    "$$\n",
    "\n",
    "First, let estimate the model on the full sample"
   ]
  },
  {
   "cell_type": "code",
   "execution_count": 12,
   "metadata": {
    "ExecuteTime": {
     "end_time": "2018-08-02T08:47:00.603264Z",
     "start_time": "2018-08-02T08:47:00.592186Z"
    }
   },
   "outputs": [
    {
     "data": {
      "text/plain": [
       "array([-4.39554312,  5.57856979, -0.64774242])"
      ]
     },
     "execution_count": 12,
     "metadata": {},
     "output_type": "execute_result"
    }
   ],
   "source": [
    "theta_all = estimator_fn(y_train, X_train)\n",
    "theta_all"
   ]
  },
  {
   "cell_type": "markdown",
   "metadata": {},
   "source": [
    "The **Jackknife Bias-Correction** $bias_{jack}$ is\n",
    "\n",
    "$$\n",
    "bias_{jack} = (n - 1) (\\theta_{all} - \\theta_{biased})\n",
    "$$"
   ]
  },
  {
   "cell_type": "code",
   "execution_count": 13,
   "metadata": {
    "ExecuteTime": {
     "end_time": "2018-08-02T08:47:00.621818Z",
     "start_time": "2018-08-02T08:47:00.610364Z"
    }
   },
   "outputs": [
    {
     "data": {
      "text/plain": [
       "array([-0.19624726,  0.02717091,  0.00022508])"
      ]
     },
     "execution_count": 13,
     "metadata": {},
     "output_type": "execute_result"
    }
   ],
   "source": [
    "bias_jack = (N - 1) * (theta_biased - theta_all)\n",
    "bias_jack"
   ]
  },
  {
   "cell_type": "markdown",
   "metadata": {},
   "source": [
    "thus"
   ]
  },
  {
   "cell_type": "code",
   "execution_count": 14,
   "metadata": {
    "ExecuteTime": {
     "end_time": "2018-08-02T08:47:00.634579Z",
     "start_time": "2018-08-02T08:47:00.626378Z"
    },
    "scrolled": true
   },
   "outputs": [
    {
     "data": {
      "text/plain": [
       "array([-4.19929586,  5.55139888, -0.64796751])"
      ]
     },
     "execution_count": 14,
     "metadata": {},
     "output_type": "execute_result"
    }
   ],
   "source": [
    "theta_jack = theta_all - bias_jack\n",
    "theta_jack"
   ]
  },
  {
   "cell_type": "markdown",
   "metadata": {},
   "source": [
    "Substitution merge both formulas into\n",
    "\n",
    "$$\n",
    "\\theta_{jack} = n \\, \\theta_{all} - (n - 1) \\, \\theta_{biased}\n",
    "$$\n",
    "\n",
    "In our example,"
   ]
  },
  {
   "cell_type": "code",
   "execution_count": 15,
   "metadata": {
    "ExecuteTime": {
     "end_time": "2018-08-02T08:47:00.651435Z",
     "start_time": "2018-08-02T08:47:00.639068Z"
    }
   },
   "outputs": [
    {
     "data": {
      "text/plain": [
       "array([-4.19929586,  5.55139888, -0.64796751])"
      ]
     },
     "execution_count": 15,
     "metadata": {},
     "output_type": "execute_result"
    }
   ],
   "source": [
    "theta_jack = N * theta_all - (N - 1) * theta_biased\n",
    "theta_jack"
   ]
  },
  {
   "cell_type": "markdown",
   "metadata": {},
   "source": [
    "\n"
   ]
  },
  {
   "cell_type": "markdown",
   "metadata": {},
   "source": [
    "## Jackknife t-Statistics - What parameters are unstable?"
   ]
  },
  {
   "cell_type": "markdown",
   "metadata": {},
   "source": [
    "The t-Statistics is simply"
   ]
  },
  {
   "cell_type": "code",
   "execution_count": 16,
   "metadata": {
    "ExecuteTime": {
     "end_time": "2018-08-02T08:47:00.683885Z",
     "start_time": "2018-08-02T08:47:00.655624Z"
    }
   },
   "outputs": [
    {
     "data": {
      "text/plain": [
       "array([-0.6381559 ,  5.86315609, -7.81109965])"
      ]
     },
     "execution_count": 16,
     "metadata": {},
     "output_type": "execute_result"
    }
   ],
   "source": [
    "tscore = theta_jack / se_jack\n",
    "tscore"
   ]
  },
  {
   "cell_type": "markdown",
   "metadata": {},
   "source": [
    "The two-sided p-value is"
   ]
  },
  {
   "cell_type": "code",
   "execution_count": 17,
   "metadata": {
    "ExecuteTime": {
     "end_time": "2018-08-02T08:47:00.710302Z",
     "start_time": "2018-08-02T08:47:00.690893Z"
    }
   },
   "outputs": [
    {
     "data": {
      "text/plain": [
       "array([0.524, 0.   , 0.   ])"
      ]
     },
     "execution_count": 17,
     "metadata": {},
     "output_type": "execute_result"
    }
   ],
   "source": [
    "M = len(tscore);\n",
    "pval = scipy.stats.t.sf(np.abs(tscore), N-M-1)*2\n",
    "pval.round(4)"
   ]
  },
  {
   "cell_type": "markdown",
   "metadata": {},
   "source": [
    "And as we already guessed, the intercept parameter estimates are just random (`0.524` is way of off being close to Zero), i.e. the intercept parameter estimates in the Jackknife subsamples just happenend by *chance*.\n",
    "\n",
    "**As a consequence the whole model is rejected.**\n",
    "The analysis is done. "
   ]
  },
  {
   "cell_type": "markdown",
   "metadata": {},
   "source": [
    "# Prediction \n",
    "However, we could still burn through our test set. \n",
    "It does not matter anyways ;)\n"
   ]
  },
  {
   "cell_type": "code",
   "execution_count": 18,
   "metadata": {
    "ExecuteTime": {
     "end_time": "2018-08-02T08:47:00.726390Z",
     "start_time": "2018-08-02T08:47:00.715246Z"
    }
   },
   "outputs": [
    {
     "data": {
      "text/plain": [
       "(29.011239937925932, 32.287748888398255)"
      ]
     },
     "execution_count": 18,
     "metadata": {},
     "output_type": "execute_result"
    }
   ],
   "source": [
    "# theta_all estimated from full training set\n",
    "y_pred  = predictor_fn(X_train, theta_all)\n",
    "mse_all_in = loss_fn(y_train, y_pred)\n",
    "\n",
    "y_pred  = predictor_fn(X_test, theta_all)\n",
    "mse_all_out = loss_fn(y_test, y_pred)\n",
    "\n",
    "mse_all_in, mse_all_out"
   ]
  },
  {
   "cell_type": "code",
   "execution_count": 19,
   "metadata": {
    "ExecuteTime": {
     "end_time": "2018-08-02T08:47:00.743468Z",
     "start_time": "2018-08-02T08:47:00.731019Z"
    }
   },
   "outputs": [
    {
     "data": {
      "text/plain": [
       "(29.01203730017213, 32.25662876562247)"
      ]
     },
     "execution_count": 19,
     "metadata": {},
     "output_type": "execute_result"
    }
   ],
   "source": [
    "# theta_jack, the biased corrected jackknife weights\n",
    "y_pred  = predictor_fn(X_train, theta_jack)\n",
    "mse_jack_in = loss_fn(y_train, y_pred)\n",
    "\n",
    "y_pred  = predictor_fn(X_test, theta_jack)\n",
    "mse_jack_out = loss_fn(y_test, y_pred)\n",
    "\n",
    "mse_jack_in, mse_jack_out"
   ]
  },
  {
   "cell_type": "markdown",
   "metadata": {},
   "source": [
    "The predictive performance of classic Linear Regression and Jackknife Estimates are not really different. \n",
    "And again, it highlights that **Delete-1 Jackknife is useful for finding unstable parameters** (see Jackknife t-Test) and rejecting a specified model for being potentially erratic, overfitted, prone to outliers, etc. during model development or model selection."
   ]
  },
  {
   "cell_type": "markdown",
   "metadata": {},
   "source": [
    "# Links\n",
    "* Bradley Efron, R.J. Tibshirani (1993), \"An Introduction to the Bootstrap\", Chapter 11, [Google Books](https://books.google.de/books?id=gLlpIUxRntoC&lpg=PR14&ots=A9xuU4O5H5&lr&pg=PA141#v=onepage&q&f=false)"
   ]
  }
 ],
 "metadata": {
  "kernelspec": {
   "display_name": "Python 3",
   "language": "python",
   "name": "python3"
  },
  "language_info": {
   "codemirror_mode": {
    "name": "ipython",
    "version": 3
   },
   "file_extension": ".py",
   "mimetype": "text/x-python",
   "name": "python",
   "nbconvert_exporter": "python",
   "pygments_lexer": "ipython3",
   "version": "3.6.2"
  },
  "varInspector": {
   "cols": {
    "lenName": 16,
    "lenType": 16,
    "lenVar": 40
   },
   "kernels_config": {
    "python": {
     "delete_cmd_postfix": "",
     "delete_cmd_prefix": "del ",
     "library": "var_list.py",
     "varRefreshCmd": "print(var_dic_list())"
    },
    "r": {
     "delete_cmd_postfix": ") ",
     "delete_cmd_prefix": "rm(",
     "library": "var_list.r",
     "varRefreshCmd": "cat(var_dic_list()) "
    }
   },
   "types_to_exclude": [
    "module",
    "function",
    "builtin_function_or_method",
    "instance",
    "_Feature"
   ],
   "window_display": false
  }
 },
 "nbformat": 4,
 "nbformat_minor": 2
}
